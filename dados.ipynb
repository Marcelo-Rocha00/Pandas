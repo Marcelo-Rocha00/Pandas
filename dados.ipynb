{
 "cells": [
  {
   "cell_type": "code",
   "execution_count": 1,
   "metadata": {},
   "outputs": [],
   "source": [
    "import pandas as pd\n"
   ]
  },
  {
   "cell_type": "code",
   "execution_count": 4,
   "metadata": {},
   "outputs": [],
   "source": [
    "df = pd.read_excel(\"dados.rev2.xlsx\")"
   ]
  },
  {
   "cell_type": "code",
   "execution_count": 5,
   "metadata": {},
   "outputs": [
    {
     "data": {
      "text/html": [
       "<div>\n",
       "<style scoped>\n",
       "    .dataframe tbody tr th:only-of-type {\n",
       "        vertical-align: middle;\n",
       "    }\n",
       "\n",
       "    .dataframe tbody tr th {\n",
       "        vertical-align: top;\n",
       "    }\n",
       "\n",
       "    .dataframe thead th {\n",
       "        text-align: right;\n",
       "    }\n",
       "</style>\n",
       "<table border=\"1\" class=\"dataframe\">\n",
       "  <thead>\n",
       "    <tr style=\"text-align: right;\">\n",
       "      <th></th>\n",
       "      <th>Data</th>\n",
       "      <th>Categoria</th>\n",
       "      <th>Tipo</th>\n",
       "      <th>Razão Social</th>\n",
       "      <th>Valor</th>\n",
       "      <th>Transação</th>\n",
       "    </tr>\n",
       "  </thead>\n",
       "  <tbody>\n",
       "    <tr>\n",
       "      <th>0</th>\n",
       "      <td>2024-01-05</td>\n",
       "      <td>Serviços</td>\n",
       "      <td>Fornecedor</td>\n",
       "      <td>PowerCont</td>\n",
       "      <td>1500.0</td>\n",
       "      <td>Pagamento</td>\n",
       "    </tr>\n",
       "    <tr>\n",
       "      <th>1</th>\n",
       "      <td>2024-01-06</td>\n",
       "      <td>Serviços - Desenvolvimento</td>\n",
       "      <td>Cliente</td>\n",
       "      <td>BuildIt</td>\n",
       "      <td>8000.0</td>\n",
       "      <td>Recebimento</td>\n",
       "    </tr>\n",
       "    <tr>\n",
       "      <th>2</th>\n",
       "      <td>2024-01-07</td>\n",
       "      <td>Serviços - Desenvolvimento</td>\n",
       "      <td>Cliente</td>\n",
       "      <td>TechSolutions</td>\n",
       "      <td>2500.0</td>\n",
       "      <td>Recebimento</td>\n",
       "    </tr>\n",
       "    <tr>\n",
       "      <th>3</th>\n",
       "      <td>2024-01-08</td>\n",
       "      <td>Serviços -Consultoria</td>\n",
       "      <td>Cliente</td>\n",
       "      <td>GreenEnergy</td>\n",
       "      <td>6000.0</td>\n",
       "      <td>Recebimento</td>\n",
       "    </tr>\n",
       "    <tr>\n",
       "      <th>4</th>\n",
       "      <td>2024-01-09</td>\n",
       "      <td>Serviços - Desenvolvimento</td>\n",
       "      <td>Cliente</td>\n",
       "      <td>Innovatech</td>\n",
       "      <td>8000.0</td>\n",
       "      <td>Recebimento</td>\n",
       "    </tr>\n",
       "  </tbody>\n",
       "</table>\n",
       "</div>"
      ],
      "text/plain": [
       "        Data                   Categoria        Tipo   Razão Social   Valor  \\\n",
       "0 2024-01-05                    Serviços  Fornecedor      PowerCont  1500.0   \n",
       "1 2024-01-06  Serviços - Desenvolvimento     Cliente        BuildIt  8000.0   \n",
       "2 2024-01-07  Serviços - Desenvolvimento     Cliente  TechSolutions  2500.0   \n",
       "3 2024-01-08      Serviços -Consultoria      Cliente    GreenEnergy  6000.0   \n",
       "4 2024-01-09  Serviços - Desenvolvimento     Cliente     Innovatech  8000.0   \n",
       "\n",
       "     Transação  \n",
       "0    Pagamento  \n",
       "1  Recebimento  \n",
       "2  Recebimento  \n",
       "3  Recebimento  \n",
       "4  Recebimento  "
      ]
     },
     "execution_count": 5,
     "metadata": {},
     "output_type": "execute_result"
    }
   ],
   "source": [
    "df.head()"
   ]
  },
  {
   "cell_type": "code",
   "execution_count": 12,
   "metadata": {},
   "outputs": [
    {
     "name": "stdout",
     "output_type": "stream",
     "text": [
      "<class 'pandas.core.frame.DataFrame'>\n",
      "RangeIndex: 183 entries, 0 to 182\n",
      "Data columns (total 6 columns):\n",
      " #   Column        Non-Null Count  Dtype         \n",
      "---  ------        --------------  -----         \n",
      " 0   Data          183 non-null    datetime64[ns]\n",
      " 1   Categoria     183 non-null    object        \n",
      " 2   Tipo          183 non-null    object        \n",
      " 3   Razão Social  183 non-null    object        \n",
      " 4   Valor         183 non-null    float64       \n",
      " 5   Transação     183 non-null    object        \n",
      "dtypes: datetime64[ns](1), float64(1), object(4)\n",
      "memory usage: 8.7+ KB\n"
     ]
    }
   ],
   "source": [
    "df.info()"
   ]
  },
  {
   "cell_type": "code",
   "execution_count": null,
   "metadata": {},
   "outputs": [],
   "source": []
  }
 ],
 "metadata": {
  "kernelspec": {
   "display_name": "venv",
   "language": "python",
   "name": "python3"
  },
  "language_info": {
   "codemirror_mode": {
    "name": "ipython",
    "version": 3
   },
   "file_extension": ".py",
   "mimetype": "text/x-python",
   "name": "python",
   "nbconvert_exporter": "python",
   "pygments_lexer": "ipython3",
   "version": "3.12.0"
  }
 },
 "nbformat": 4,
 "nbformat_minor": 2
}
